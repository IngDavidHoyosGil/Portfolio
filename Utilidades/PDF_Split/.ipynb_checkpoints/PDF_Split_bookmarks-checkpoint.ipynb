{
 "cells": [
  {
   "cell_type": "code",
   "execution_count": 5,
   "id": "930f7e9d-7be6-4944-a24e-875c7c0ccee8",
   "metadata": {},
   "outputs": [
    {
     "name": "stdout",
     "output_type": "stream",
     "text": [
      "Collecting pymupdfNote: you may need to restart the kernel to use updated packages.\n",
      "\n",
      "  Downloading pymupdf-1.26.3-cp39-abi3-win_amd64.whl.metadata (3.4 kB)\n",
      "Downloading pymupdf-1.26.3-cp39-abi3-win_amd64.whl (18.7 MB)\n",
      "   ---------------------------------------- 0.0/18.7 MB ? eta -:--:--\n",
      "   ------ --------------------------------- 2.9/18.7 MB 16.9 MB/s eta 0:00:01\n",
      "   ------------- -------------------------- 6.6/18.7 MB 16.3 MB/s eta 0:00:01\n",
      "   ------------------- -------------------- 8.9/18.7 MB 14.8 MB/s eta 0:00:01\n",
      "   ----------------------- ---------------- 11.0/18.7 MB 13.3 MB/s eta 0:00:01\n",
      "   --------------------------- ------------ 13.1/18.7 MB 12.6 MB/s eta 0:00:01\n",
      "   --------------------------------- ------ 15.5/18.7 MB 12.4 MB/s eta 0:00:01\n",
      "   ------------------------------------- -- 17.6/18.7 MB 12.1 MB/s eta 0:00:01\n",
      "   ---------------------------------------- 18.7/18.7 MB 11.6 MB/s eta 0:00:00\n",
      "Installing collected packages: pymupdf\n",
      "Successfully installed pymupdf-1.26.3\n"
     ]
    }
   ],
   "source": [
    "pip install pymupdf\n"
   ]
  },
  {
   "cell_type": "code",
   "execution_count": 6,
   "id": "64b6fc2d-137a-4f01-8a0a-95552ac3c4a1",
   "metadata": {},
   "outputs": [
    {
     "name": "stdin",
     "output_type": "stream",
     "text": [
      "📄 Ingresa el número de página para cortar:  283\n"
     ]
    },
    {
     "name": "stdout",
     "output_type": "stream",
     "text": [
      "✅ PDF dividido y bookmarks preservados:\n",
      " - C:/Users/david/OneDrive/Documentos/Books/Software development/Leer/Data Science/Storytelling_with_data_a_data_visualization_guide_for_business_p_parte1.pdf\n",
      " - C:/Users/david/OneDrive/Documentos/Books/Software development/Leer/Data Science/Storytelling_with_data_a_data_visualization_guide_for_business_p_parte2.pdf\n"
     ]
    }
   ],
   "source": [
    "import fitz  # PyMuPDF\n",
    "import os\n",
    "from tkinter import Tk, filedialog\n",
    "\n",
    "def split_pdf_with_bookmarks():\n",
    "    # Ocultar ventana principal de Tkinter\n",
    "    Tk().withdraw()\n",
    "\n",
    "    # Seleccionar PDF\n",
    "    file_path = filedialog.askopenfilename(\n",
    "        title=\"Selecciona el archivo PDF\",\n",
    "        filetypes=[(\"Archivos PDF\", \"*.pdf\")]\n",
    "    )\n",
    "\n",
    "    if not file_path:\n",
    "        print(\"❌ No seleccionaste ningún archivo.\")\n",
    "        return\n",
    "\n",
    "    # Pedir número de página\n",
    "    try:\n",
    "        split_page = int(input(\"📄 Ingresa el número de página para cortar: \"))\n",
    "    except ValueError:\n",
    "        print(\"❌ Número de página inválido.\")\n",
    "        return\n",
    "\n",
    "    # Abrir PDF original\n",
    "    pdf = fitz.open(file_path)\n",
    "    total_pages = pdf.page_count\n",
    "\n",
    "    if split_page < 1 or split_page >= total_pages:\n",
    "        print(f\"❌ El número de página debe estar entre 1 y {total_pages - 1}\")\n",
    "        return\n",
    "\n",
    "    # Obtener todos los bookmarks (table of contents)\n",
    "    toc = pdf.get_toc(simple=True)  # [ [nivel, título, página], ... ]\n",
    "\n",
    "    # ---- Primera parte ----\n",
    "    pdf1 = fitz.open()\n",
    "    pdf1.insert_pdf(pdf, from_page=0, to_page=split_page-1)\n",
    "\n",
    "    # Filtrar bookmarks para la primera parte\n",
    "    toc1 = [ [lvl, title, page] for lvl, title, page in toc if page <= split_page ]\n",
    "    pdf1.set_toc(toc1)\n",
    "    part1_path = os.path.splitext(file_path)[0] + \"_parte1.pdf\"\n",
    "    pdf1.save(part1_path)\n",
    "\n",
    "    # ---- Segunda parte ----\n",
    "    pdf2 = fitz.open()\n",
    "    pdf2.insert_pdf(pdf, from_page=split_page, to_page=total_pages-1)\n",
    "\n",
    "    # Filtrar bookmarks para la segunda parte y ajustar índice\n",
    "    toc2 = []\n",
    "    for lvl, title, page in toc:\n",
    "        if page > split_page:\n",
    "            toc2.append([lvl, title, page - split_page])\n",
    "\n",
    "    pdf2.set_toc(toc2)\n",
    "    part2_path = os.path.splitext(file_path)[0] + \"_parte2.pdf\"\n",
    "    pdf2.save(part2_path)\n",
    "\n",
    "    print(\"✅ PDF dividido y bookmarks preservados:\")\n",
    "    print(f\" - {part1_path}\")\n",
    "    print(f\" - {part2_path}\")\n",
    "\n",
    "# Ejecutar\n",
    "split_pdf_with_bookmarks()\n"
   ]
  }
 ],
 "metadata": {
  "kernelspec": {
   "display_name": "Python [conda env:base] *",
   "language": "python",
   "name": "conda-base-py"
  },
  "language_info": {
   "codemirror_mode": {
    "name": "ipython",
    "version": 3
   },
   "file_extension": ".py",
   "mimetype": "text/x-python",
   "name": "python",
   "nbconvert_exporter": "python",
   "pygments_lexer": "ipython3",
   "version": "3.13.5"
  }
 },
 "nbformat": 4,
 "nbformat_minor": 5
}
