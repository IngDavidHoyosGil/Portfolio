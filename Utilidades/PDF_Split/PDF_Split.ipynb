{
 "cells": [
  {
   "cell_type": "code",
   "execution_count": 2,
   "id": "008ea592-d230-4e57-a568-2da955fe2a27",
   "metadata": {},
   "outputs": [
    {
     "name": "stdin",
     "output_type": "stream",
     "text": [
      "📄 Ingresa el número de página para cortar:  283\n"
     ]
    },
    {
     "name": "stdout",
     "output_type": "stream",
     "text": [
      "✅ PDF dividido en:\n",
      " - C:/Users/david/OneDrive/Documentos/Books/Software development/Leer/Data Science/Storytelling_with_data_a_data_visualization_guide_for_business_p_parte1.pdf\n",
      " - C:/Users/david/OneDrive/Documentos/Books/Software development/Leer/Data Science/Storytelling_with_data_a_data_visualization_guide_for_business_p_parte2.pdf\n"
     ]
    }
   ],
   "source": [
    "import os\n",
    "from PyPDF2 import PdfReader, PdfWriter\n",
    "from tkinter import Tk, filedialog\n",
    "\n",
    "def split_pdf_gui():\n",
    "    # Ocultar ventana principal de Tkinter\n",
    "    Tk().withdraw()\n",
    "    \n",
    "    # Abrir selector de archivo PDF\n",
    "    file_path = filedialog.askopenfilename(\n",
    "        title=\"Selecciona el archivo PDF\",\n",
    "        filetypes=[(\"Archivos PDF\", \"*.pdf\")]\n",
    "    )\n",
    "    \n",
    "    if not file_path:\n",
    "        print(\"❌ No seleccionaste ningún archivo.\")\n",
    "        return\n",
    "    \n",
    "    # Pedir número de página para dividir\n",
    "    try:\n",
    "        split_page_number = int(input(\"📄 Ingresa el número de página para cortar: \"))\n",
    "    except ValueError:\n",
    "        print(\"❌ Número de página inválido.\")\n",
    "        return\n",
    "    \n",
    "    # Cargar PDF\n",
    "    reader = PdfReader(file_path)\n",
    "    total_pages = len(reader.pages)\n",
    "    \n",
    "    if split_page_number < 1 or split_page_number >= total_pages:\n",
    "        print(f\"❌ El número de página debe estar entre 1 y {total_pages - 1}\")\n",
    "        return\n",
    "    \n",
    "    # Crear primera parte\n",
    "    writer1 = PdfWriter()\n",
    "    for i in range(split_page_number):\n",
    "        writer1.add_page(reader.pages[i])\n",
    "    \n",
    "    part1_path = os.path.splitext(file_path)[0] + \"_parte1.pdf\"\n",
    "    with open(part1_path, \"wb\") as f1:\n",
    "        writer1.write(f1)\n",
    "    \n",
    "    # Crear segunda parte\n",
    "    writer2 = PdfWriter()\n",
    "    for i in range(split_page_number, total_pages):\n",
    "        writer2.add_page(reader.pages[i])\n",
    "    \n",
    "    part2_path = os.path.splitext(file_path)[0] + \"_parte2.pdf\"\n",
    "    with open(part2_path, \"wb\") as f2:\n",
    "        writer2.write(f2)\n",
    "    \n",
    "    print(f\"✅ PDF dividido en:\\n - {part1_path}\\n - {part2_path}\")\n",
    "\n",
    "# Ejecutar la función\n",
    "split_pdf_gui()\n"
   ]
  }
 ],
 "metadata": {
  "kernelspec": {
   "display_name": "Python [conda env:base] *",
   "language": "python",
   "name": "conda-base-py"
  },
  "language_info": {
   "codemirror_mode": {
    "name": "ipython",
    "version": 3
   },
   "file_extension": ".py",
   "mimetype": "text/x-python",
   "name": "python",
   "nbconvert_exporter": "python",
   "pygments_lexer": "ipython3",
   "version": "3.13.5"
  }
 },
 "nbformat": 4,
 "nbformat_minor": 5
}
