{
 "cells": [
  {
   "cell_type": "code",
   "execution_count": 1,
   "id": "9a161c09-acb8-4ebf-adff-daede5c4b433",
   "metadata": {},
   "outputs": [
    {
     "name": "stdout",
     "output_type": "stream",
     "text": [
      "Collecting mysql-connector-python\n",
      "  Downloading mysql_connector_python-9.4.0-cp313-cp313-win_amd64.whl.metadata (7.7 kB)\n",
      "Downloading mysql_connector_python-9.4.0-cp313-cp313-win_amd64.whl (16.4 MB)\n",
      "   ---------------------------------------- 0.0/16.4 MB ? eta -:--:--\n",
      "   ------- -------------------------------- 3.1/16.4 MB 17.9 MB/s eta 0:00:01\n",
      "   -------------- ------------------------- 6.0/16.4 MB 15.0 MB/s eta 0:00:01\n",
      "   ----------------------- ---------------- 9.4/16.4 MB 15.2 MB/s eta 0:00:01\n",
      "   --------------------------- ------------ 11.3/16.4 MB 14.3 MB/s eta 0:00:01\n",
      "   --------------------------- ------------ 11.3/16.4 MB 14.3 MB/s eta 0:00:01\n",
      "   -------------------------------- ------- 13.4/16.4 MB 10.6 MB/s eta 0:00:01\n",
      "   ---------------------------------------- 16.4/16.4 MB 11.4 MB/s eta 0:00:00\n",
      "Installing collected packages: mysql-connector-python\n",
      "Successfully installed mysql-connector-python-9.4.0\n",
      "Note: you may need to restart the kernel to use updated packages.\n"
     ]
    }
   ],
   "source": [
    "pip install mysql-connector-python"
   ]
  },
  {
   "cell_type": "code",
   "execution_count": null,
   "id": "17171a1e-e5db-4824-8bd9-3015fe7ac9cc",
   "metadata": {},
   "outputs": [],
   "source": []
  }
 ],
 "metadata": {
  "kernelspec": {
   "display_name": "Python [conda env:base] *",
   "language": "python",
   "name": "conda-base-py"
  },
  "language_info": {
   "codemirror_mode": {
    "name": "ipython",
    "version": 3
   },
   "file_extension": ".py",
   "mimetype": "text/x-python",
   "name": "python",
   "nbconvert_exporter": "python",
   "pygments_lexer": "ipython3",
   "version": "3.13.5"
  }
 },
 "nbformat": 4,
 "nbformat_minor": 5
}
