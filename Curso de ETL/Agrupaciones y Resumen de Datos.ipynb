{
 "cells": [
  {
   "cell_type": "code",
   "execution_count": 10,
   "id": "8427e477-a4a7-4cc1-bc13-8ffdf6bb9838",
   "metadata": {},
   "outputs": [
    {
     "name": "stdout",
     "output_type": "stream",
     "text": [
      "DataFrame Original (Leído desde el CSV):\n",
      "   ID  Nombre             Edad Genero  Salario Departamento\n",
      "0   1     Ana               25      F  50000.0       Ventas\n",
      "1   2    Luis               30      M      NaN    Marketing\n",
      "2   3  Carlos  Treinta y cinco      M  60000.0       Ventas\n",
      "3   4   Sofia               40      F  55000.0         RRHH\n",
      "4   5     NaN               45      M  70000.0           TI\n"
     ]
    }
   ],
   "source": [
    "import pandas as pd\n",
    "import numpy as np\n",
    "\n",
    "# 1. Leer el archivo CSV generado\n",
    "df = pd.read_csv(r'C:\\Users\\david\\Portfolio\\Curso de ETL\\13. Agrupaciones y Resumen de Datos/datos_ejemplo.csv')\n",
    "\n",
    "# Mostrar el DataFrame original\n",
    "print(\"DataFrame Original (Leído desde el CSV):\")\n",
    "print(df)"
   ]
  },
  {
   "cell_type": "code",
   "execution_count": 11,
   "id": "36578fcb-e3bc-4bb3-b628-ce12c619a74a",
   "metadata": {},
   "outputs": [
    {
     "name": "stdout",
     "output_type": "stream",
     "text": [
      "\n",
      "DataFrame después de rellenar los valores NaN de 'Salario' con la media:\n",
      "   ID  Nombre  Edad Genero  Salario Departamento\n",
      "0   1     Ana  25.0      F  50000.0       Ventas\n",
      "1   2    Luis  30.0      M  58750.0    Marketing\n",
      "2   3  Carlos   NaN      M  60000.0       Ventas\n",
      "3   4   Sofia  40.0      F  55000.0         RRHH\n",
      "4   5     NaN  45.0      M  70000.0           TI\n"
     ]
    }
   ],
   "source": [
    "# --------------------------------------------\n",
    "# 2. Convertir la columna 'Edad' a valores numéricos\n",
    "# --------------------------------------------\n",
    "df['Edad'] = pd.to_numeric(df['Edad'], errors='coerce')  # Convertir 'Edad' a valores numéricos\n",
    "\n",
    "# --------------------------------------------\n",
    "# 3. Manejo de valores faltantes (NaN) en 'Salario'\n",
    "# --------------------------------------------\n",
    "\n",
    "# Rellenar valores NaN con la media de la columna 'Salario'\n",
    "media_salario = df['Salario'].mean()  # Calcular la media de 'Salario'\n",
    "df['Salario'] = df['Salario'].fillna(media_salario)  # Rellenar los NaN con la media\n",
    "\n",
    "print(\"\\nDataFrame después de rellenar los valores NaN de 'Salario' con la media:\")\n",
    "print(df)"
   ]
  },
  {
   "cell_type": "code",
   "execution_count": 4,
   "id": "9ebd3448-a0e1-4359-810c-34c9cd7fc419",
   "metadata": {},
   "outputs": [
    {
     "name": "stdout",
     "output_type": "stream",
     "text": [
      "\n",
      "Promedio de 'Salario' por 'Departamento':\n",
      "Departamento\n",
      "Marketing        NaN\n",
      "RRHH         55000.0\n",
      "TI           70000.0\n",
      "Ventas       55000.0\n",
      "Name: Salario, dtype: float64\n",
      "\n",
      "Estadísticas descriptivas de 'Salario' por 'Genero':\n",
      "        count     mean          std      min      25%      50%      75%  \\\n",
      "Genero                                                                    \n",
      "F         2.0  52500.0  3535.533906  50000.0  51250.0  52500.0  53750.0   \n",
      "M         2.0  65000.0  7071.067812  60000.0  62500.0  65000.0  67500.0   \n",
      "\n",
      "            max  \n",
      "Genero           \n",
      "F       55000.0  \n",
      "M       70000.0  \n",
      "\n",
      "Estadísticas agregadas de 'Salario' por 'Departamento' (media, desviación estándar, y suma):\n",
      "                 mean          std       sum\n",
      "Departamento                                \n",
      "Marketing         NaN          NaN       0.0\n",
      "RRHH          55000.0          NaN   55000.0\n",
      "TI            70000.0          NaN   70000.0\n",
      "Ventas        55000.0  7071.067812  110000.0\n",
      "\n",
      "Promedio de 'Salario' para cada 'Departamento' donde 'Edad' > 30 años:\n"
     ]
    },
    {
     "ename": "TypeError",
     "evalue": "'>' not supported between instances of 'str' and 'int'",
     "output_type": "error",
     "traceback": [
      "\u001b[1;31m---------------------------------------------------------------------------\u001b[0m",
      "\u001b[1;31mTypeError\u001b[0m                                 Traceback (most recent call last)",
      "Cell \u001b[1;32mIn[4], line 23\u001b[0m\n\u001b[0;32m     21\u001b[0m \u001b[38;5;28mprint\u001b[39m(\u001b[38;5;124m\"\u001b[39m\u001b[38;5;130;01m\\n\u001b[39;00m\u001b[38;5;124mPromedio de \u001b[39m\u001b[38;5;124m'\u001b[39m\u001b[38;5;124mSalario\u001b[39m\u001b[38;5;124m'\u001b[39m\u001b[38;5;124m para cada \u001b[39m\u001b[38;5;124m'\u001b[39m\u001b[38;5;124mDepartamento\u001b[39m\u001b[38;5;124m'\u001b[39m\u001b[38;5;124m donde \u001b[39m\u001b[38;5;124m'\u001b[39m\u001b[38;5;124mEdad\u001b[39m\u001b[38;5;124m'\u001b[39m\u001b[38;5;124m > 30 años:\u001b[39m\u001b[38;5;124m\"\u001b[39m)\n\u001b[0;32m     22\u001b[0m \u001b[38;5;66;03m# Filtrar primero por 'Edad' > 30 y luego agrupar por 'Departamento' y calcular la media de 'Salario'\u001b[39;00m\n\u001b[1;32m---> 23\u001b[0m grupo_edad \u001b[38;5;241m=\u001b[39m df[df[\u001b[38;5;124m'\u001b[39m\u001b[38;5;124mEdad\u001b[39m\u001b[38;5;124m'\u001b[39m] \u001b[38;5;241m>\u001b[39m \u001b[38;5;241m30\u001b[39m]\u001b[38;5;241m.\u001b[39mgroupby(\u001b[38;5;124m'\u001b[39m\u001b[38;5;124mDepartamento\u001b[39m\u001b[38;5;124m'\u001b[39m)[\u001b[38;5;124m'\u001b[39m\u001b[38;5;124mSalario\u001b[39m\u001b[38;5;124m'\u001b[39m]\u001b[38;5;241m.\u001b[39mmean()\n\u001b[0;32m     24\u001b[0m \u001b[38;5;28mprint\u001b[39m(grupo_edad)\n\u001b[0;32m     26\u001b[0m \u001b[38;5;66;03m# 4.5 Agrupación por múltiples columnas y cálculo de estadísticas\u001b[39;00m\n",
      "File \u001b[1;32m~\\anaconda3\\Lib\\site-packages\\pandas\\core\\ops\\common.py:76\u001b[0m, in \u001b[0;36m_unpack_zerodim_and_defer.<locals>.new_method\u001b[1;34m(self, other)\u001b[0m\n\u001b[0;32m     72\u001b[0m             \u001b[38;5;28;01mreturn\u001b[39;00m \u001b[38;5;28mNotImplemented\u001b[39m\n\u001b[0;32m     74\u001b[0m other \u001b[38;5;241m=\u001b[39m item_from_zerodim(other)\n\u001b[1;32m---> 76\u001b[0m \u001b[38;5;28;01mreturn\u001b[39;00m method(\u001b[38;5;28mself\u001b[39m, other)\n",
      "File \u001b[1;32m~\\anaconda3\\Lib\\site-packages\\pandas\\core\\arraylike.py:56\u001b[0m, in \u001b[0;36mOpsMixin.__gt__\u001b[1;34m(self, other)\u001b[0m\n\u001b[0;32m     54\u001b[0m \u001b[38;5;129m@unpack_zerodim_and_defer\u001b[39m(\u001b[38;5;124m\"\u001b[39m\u001b[38;5;124m__gt__\u001b[39m\u001b[38;5;124m\"\u001b[39m)\n\u001b[0;32m     55\u001b[0m \u001b[38;5;28;01mdef\u001b[39;00m\u001b[38;5;250m \u001b[39m\u001b[38;5;21m__gt__\u001b[39m(\u001b[38;5;28mself\u001b[39m, other):\n\u001b[1;32m---> 56\u001b[0m     \u001b[38;5;28;01mreturn\u001b[39;00m \u001b[38;5;28mself\u001b[39m\u001b[38;5;241m.\u001b[39m_cmp_method(other, operator\u001b[38;5;241m.\u001b[39mgt)\n",
      "File \u001b[1;32m~\\anaconda3\\Lib\\site-packages\\pandas\\core\\series.py:6119\u001b[0m, in \u001b[0;36mSeries._cmp_method\u001b[1;34m(self, other, op)\u001b[0m\n\u001b[0;32m   6116\u001b[0m lvalues \u001b[38;5;241m=\u001b[39m \u001b[38;5;28mself\u001b[39m\u001b[38;5;241m.\u001b[39m_values\n\u001b[0;32m   6117\u001b[0m rvalues \u001b[38;5;241m=\u001b[39m extract_array(other, extract_numpy\u001b[38;5;241m=\u001b[39m\u001b[38;5;28;01mTrue\u001b[39;00m, extract_range\u001b[38;5;241m=\u001b[39m\u001b[38;5;28;01mTrue\u001b[39;00m)\n\u001b[1;32m-> 6119\u001b[0m res_values \u001b[38;5;241m=\u001b[39m ops\u001b[38;5;241m.\u001b[39mcomparison_op(lvalues, rvalues, op)\n\u001b[0;32m   6121\u001b[0m \u001b[38;5;28;01mreturn\u001b[39;00m \u001b[38;5;28mself\u001b[39m\u001b[38;5;241m.\u001b[39m_construct_result(res_values, name\u001b[38;5;241m=\u001b[39mres_name)\n",
      "File \u001b[1;32m~\\anaconda3\\Lib\\site-packages\\pandas\\core\\ops\\array_ops.py:344\u001b[0m, in \u001b[0;36mcomparison_op\u001b[1;34m(left, right, op)\u001b[0m\n\u001b[0;32m    341\u001b[0m     \u001b[38;5;28;01mreturn\u001b[39;00m invalid_comparison(lvalues, rvalues, op)\n\u001b[0;32m    343\u001b[0m \u001b[38;5;28;01melif\u001b[39;00m lvalues\u001b[38;5;241m.\u001b[39mdtype \u001b[38;5;241m==\u001b[39m \u001b[38;5;28mobject\u001b[39m \u001b[38;5;129;01mor\u001b[39;00m \u001b[38;5;28misinstance\u001b[39m(rvalues, \u001b[38;5;28mstr\u001b[39m):\n\u001b[1;32m--> 344\u001b[0m     res_values \u001b[38;5;241m=\u001b[39m comp_method_OBJECT_ARRAY(op, lvalues, rvalues)\n\u001b[0;32m    346\u001b[0m \u001b[38;5;28;01melse\u001b[39;00m:\n\u001b[0;32m    347\u001b[0m     res_values \u001b[38;5;241m=\u001b[39m _na_arithmetic_op(lvalues, rvalues, op, is_cmp\u001b[38;5;241m=\u001b[39m\u001b[38;5;28;01mTrue\u001b[39;00m)\n",
      "File \u001b[1;32m~\\anaconda3\\Lib\\site-packages\\pandas\\core\\ops\\array_ops.py:129\u001b[0m, in \u001b[0;36mcomp_method_OBJECT_ARRAY\u001b[1;34m(op, x, y)\u001b[0m\n\u001b[0;32m    127\u001b[0m     result \u001b[38;5;241m=\u001b[39m libops\u001b[38;5;241m.\u001b[39mvec_compare(x\u001b[38;5;241m.\u001b[39mravel(), y\u001b[38;5;241m.\u001b[39mravel(), op)\n\u001b[0;32m    128\u001b[0m \u001b[38;5;28;01melse\u001b[39;00m:\n\u001b[1;32m--> 129\u001b[0m     result \u001b[38;5;241m=\u001b[39m libops\u001b[38;5;241m.\u001b[39mscalar_compare(x\u001b[38;5;241m.\u001b[39mravel(), y, op)\n\u001b[0;32m    130\u001b[0m \u001b[38;5;28;01mreturn\u001b[39;00m result\u001b[38;5;241m.\u001b[39mreshape(x\u001b[38;5;241m.\u001b[39mshape)\n",
      "File \u001b[1;32mops.pyx:107\u001b[0m, in \u001b[0;36mpandas._libs.ops.scalar_compare\u001b[1;34m()\u001b[0m\n",
      "\u001b[1;31mTypeError\u001b[0m: '>' not supported between instances of 'str' and 'int'"
     ]
    }
   ],
   "source": [
    "# --------------------------------------------\n",
    "# 4. Uso de groupby() y funciones estadísticas de agregación\n",
    "# --------------------------------------------\n",
    "\n",
    "# 4.1 Agrupar por 'Departamento' y calcular la media de 'Salario'\n",
    "print(\"\\nPromedio de 'Salario' por 'Departamento':\")\n",
    "grupo_departamento = df.groupby('Departamento')['Salario'].mean()  # Calcular el promedio de 'Salario' por 'Departamento'\n",
    "print(grupo_departamento)\n",
    "\n",
    "# 4.2 Agrupar por 'Genero' y calcular estadísticas descriptivas\n",
    "print(\"\\nEstadísticas descriptivas de 'Salario' por 'Genero':\")\n",
    "grupo_genero = df.groupby('Genero')['Salario'].describe()  # Estadísticas descriptivas: count, mean, std, min, 25%, 50%, 75%, max\n",
    "print(grupo_genero)\n",
    "\n",
    "# 4.3 Agrupar por 'Departamento' y calcular varias estadísticas con .agg()\n",
    "print(\"\\nEstadísticas agregadas de 'Salario' por 'Departamento' (media, desviación estándar, y suma):\")\n",
    "grupo_agregados = df.groupby('Departamento')['Salario'].agg(['mean', 'std', 'sum'])  # Varias estadísticas con agg()\n",
    "print(grupo_agregados)\n",
    "\n",
    "# 4.4 Filtrar y aplicar funciones agregadas\n",
    "print(\"\\nPromedio de 'Salario' para cada 'Departamento' donde 'Edad' > 30 años:\")\n",
    "# Filtrar primero por 'Edad' > 30 y luego agrupar por 'Departamento' y calcular la media de 'Salario'\n",
    "grupo_edad = df[df['Edad'] > 30].groupby('Departamento')['Salario'].mean()\n",
    "print(grupo_edad)\n",
    "\n",
    "# 4.5 Agrupación por múltiples columnas y cálculo de estadísticas\n",
    "print(\"\\nPromedio de 'Salario' por 'Departamento' y 'Genero':\")\n",
    "# Agrupamos por 'Departamento' y 'Genero' y calculamos la media de 'Salario'\n",
    "grupo_multiple = df.groupby(['Departamento', 'Genero'])['Salario'].mean()\n",
    "print(grupo_multiple)\n",
    "\n",
    "# 4.6 Uso de reset_index() para volver a convertir el índice en columnas\n",
    "print(\"\\nRestablecer el índice después de agrupar:\")\n",
    "# Después de agrupar, el índice del DataFrame resultante es el valor de la columna agrupada.\n",
    "# Usamos 'reset_index()' para convertir el índice en una columna normal.\n",
    "grupo_reset = df.groupby('Departamento')['Salario'].mean().reset_index()\n",
    "print(grupo_reset)"
   ]
  },
  {
   "cell_type": "code",
   "execution_count": 4,
   "id": "38ca5b5f-6c52-4fe9-a66f-0f69c19e1f13",
   "metadata": {},
   "outputs": [
    {
     "name": "stdout",
     "output_type": "stream",
     "text": [
      "\n",
      "Desviación estándar de 'Salario' por 'Genero':\n",
      "Genero\n",
      "F    3535.533906\n",
      "M    6166.103578\n",
      "Name: Salario, dtype: float64\n",
      "\n",
      "Valor máximo y mínimo de 'Salario' por 'Departamento':\n",
      "                  max      min\n",
      "Departamento                  \n",
      "Marketing     58750.0  58750.0\n",
      "RRHH          55000.0  55000.0\n",
      "TI            70000.0  70000.0\n",
      "Ventas        60000.0  50000.0\n",
      "\n",
      "Mediana de 'Salario' por 'Genero':\n",
      "Genero\n",
      "F    52500.0\n",
      "M    60000.0\n",
      "Name: Salario, dtype: float64\n"
     ]
    }
   ],
   "source": [
    "# --------------------------------------------\n",
    "# 5. Funciones estadísticas avanzadas\n",
    "# --------------------------------------------\n",
    "print(\"\\nDesviación estándar de 'Salario' por 'Genero':\")\n",
    "# Desviación estándar de 'Salario' por 'Genero'\n",
    "desviacion_genero = df.groupby('Genero')['Salario'].std()\n",
    "print(desviacion_genero)\n",
    "\n",
    "print(\"\\nValor máximo y mínimo de 'Salario' por 'Departamento':\")\n",
    "# Usamos las cadenas 'max' y 'min' en lugar de las funciones max y min\n",
    "max_min_salario = df.groupby('Departamento')['Salario'].agg(['max', 'min'])  # Utilizando las cadenas \"max\" y \"min\"\n",
    "print(max_min_salario)\n",
    "\n",
    "print(\"\\nMediana de 'Salario' por 'Genero':\")\n",
    "# Mediana de 'Salario' por 'Genero'\n",
    "mediana_genero = df.groupby('Genero')['Salario'].median()\n",
    "print(mediana_genero)"
   ]
  }
 ],
 "metadata": {
  "kernelspec": {
   "display_name": "Python [conda env:base] *",
   "language": "python",
   "name": "conda-base-py"
  },
  "language_info": {
   "codemirror_mode": {
    "name": "ipython",
    "version": 3
   },
   "file_extension": ".py",
   "mimetype": "text/x-python",
   "name": "python",
   "nbconvert_exporter": "python",
   "pygments_lexer": "ipython3",
   "version": "3.13.5"
  }
 },
 "nbformat": 4,
 "nbformat_minor": 5
}
